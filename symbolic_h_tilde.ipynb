{
 "cells": [
  {
   "cell_type": "code",
   "execution_count": null,
   "id": "154dbb2d",
   "metadata": {},
   "outputs": [],
   "source": [
    "import sympy as sp\n",
    "import numpy as np\n",
    "import matplotlib.pyplot as plt"
   ]
  },
  {
   "cell_type": "code",
   "execution_count": null,
   "id": "c8b08d3d",
   "metadata": {},
   "outputs": [],
   "source": [
    "h = sp.Symbol('h')\n",
    "d = sp.Symbol('d')"
   ]
  },
  {
   "cell_type": "code",
   "execution_count": null,
   "id": "f77459b9",
   "metadata": {},
   "outputs": [],
   "source": [
    "def build_matrix(N, h, d):\n",
    "    # Compute l[i] for i = 0 to N-1\n",
    "    l = []\n",
    "    for i in range(N):\n",
    "        sum_term = sum((h*(1+d) - 1)**(-2 * k) for k in range(i + 1))\n",
    "        l_i = (2 - h*(1+d)) / (h*(1+d) - 1) * sum_term                          # λ_i multiplier\n",
    "        l.append(sp.simplify(l_i))\n",
    "\n",
    "    b = []\n",
    "    for i in range(N):\n",
    "        multiplicator_term = 1/(h*(1+d)-1)**(1+2*i)\n",
    "        b_i = h*d/2 * multiplicator_term                                        # b_i multiplier\n",
    "        b.append(sp.simplify(b_i))\n",
    "\n",
    "    C = []\n",
    "    for i in range(1, N+1):\n",
    "        C_i = ((1-h*(1+d))**(-2*i) - 1)/2\n",
    "        C.append(sp.simplify(C_i))\n",
    "\n",
    "    size = 2 * N + 1\n",
    "    M = sp.zeros(size, size)\n",
    "\n",
    "    for i in range(N):\n",
    "        gi = i\n",
    "        gip1 = i + 1\n",
    "        di = N + 1 + i\n",
    "\n",
    "        li = l[i]\n",
    "\n",
    "        M[gi, gi] += 2 * (1 - h) * li - 2 * b[i] + 1\n",
    "        val = (h - 2) * li - 1 + h\n",
    "        M[gi, gip1] += val\n",
    "        M[gip1, gi] += val\n",
    "\n",
    "        val = -h * d * li\n",
    "        M[gi, di] += val\n",
    "        M[di, gi] += val\n",
    "\n",
    "        M[gip1, gip1] += 2 * li + 1\n",
    "\n",
    "        val = h * d * li + h * d\n",
    "        M[gip1, di] += val\n",
    "        M[di, gip1] += val\n",
    "\n",
    "        M[di, di] += 2 * b[i]\n",
    "\n",
    "    M[N, N] -= 2*C[N-1]\n",
    "\n",
    "    return M\n",
    "\n",
    "def is_psd(matrix, tol=1e-8):\n",
    "    \"\"\"\n",
    "    Check if a SymPy matrix is positive semi-definite (PSD).\n",
    "\n",
    "    Parameters:\n",
    "        matrix (sp.Matrix): A SymPy matrix.\n",
    "        tol (float): Tolerance for floating-point comparisons (used if matrix is numeric).\n",
    "    \n",
    "    Returns:\n",
    "        bool: True if matrix is PSD, False otherwise.\n",
    "    \"\"\"\n",
    "    if all(entry.is_number for entry in matrix):\n",
    "        eigenvals = matrix.eigenvals()\n",
    "        for eigval in eigenvals:\n",
    "            if sp.re(eigval.evalf()) < -tol:\n",
    "                return False\n",
    "        return True\n"
   ]
  },
  {
   "cell_type": "code",
   "execution_count": 190,
   "id": "1e038ff7",
   "metadata": {},
   "outputs": [
    {
     "name": "stdout",
     "output_type": "stream",
     "text": [
      "100.0%84210526316%%\r"
     ]
    }
   ],
   "source": [
    "range_N = np.arange(1., 20., 1)\n",
    "h_range = np.linspace(2/(1+0.5), 1.1313, 200)\n",
    "h_tilde = np.zeros(len(range_N))\n",
    "\n",
    "for i in range(len(range_N)):\n",
    "    for j in range(len(h_range)):\n",
    "        if is_psd(build_matrix(int(range_N[i]), h_range[j], 0.5)) == False:\n",
    "            h_tilde[i] = h_range[j]\n",
    "            break\n",
    "    print(\"{}%\".format(100*(i+1)/len(range_N)), end = \"\\r\")"
   ]
  },
  {
   "cell_type": "code",
   "execution_count": null,
   "id": "220d539e",
   "metadata": {},
   "outputs": [
    {
     "data": {
      "image/png": "[encoded data removed]",
      "text/plain": [
       "<Figure size 640x480 with 1 Axes>"
      ]
     },
     "metadata": {},
     "output_type": "display_data"
    }
   ],
   "source": [
    "plt.plot(range_N, h_tilde)\n",
    "plt.scatter(range_N, h_tilde)\n",
    "plt.ylabel(\"$\\\\tilde{h}$\", fontsize=16)\n",
    "plt.xlabel(\"$N$\", fontsize=16)\n",
    "plt.xticks([0,5,10,15,20], fontsize=16)\n",
    "plt.yticks([1.15,1.2,1.25,1.3],fontsize=16)\n",
    "plt.grid()\n",
    "# plt.savefig(\"Images/tilde_h.eps\", bbox_inches = 'tight')"
   ]
  }
 ],
 "metadata": {
  "kernelspec": {
   "display_name": ".venv",
   "language": "python",
   "name": "python3"
  },
  "language_info": {
   "codemirror_mode": {
    "name": "ipython",
    "version": 3
   },
   "file_extension": ".py",
   "mimetype": "text/x-python",
   "name": "python",
   "nbconvert_exporter": "python",
   "pygments_lexer": "ipython3",
   "version": "3.12.3"
  }
 },
 "nbformat": 4,
 "nbformat_minor": 5
}
