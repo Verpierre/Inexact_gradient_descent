{
 "cells": [
  {
   "cell_type": "code",
   "execution_count": 1,
   "id": "077a03c0",
   "metadata": {},
   "outputs": [],
   "source": [
    "import sympy as sym"
   ]
  },
  {
   "cell_type": "code",
   "execution_count": 2,
   "id": "16c9854e",
   "metadata": {},
   "outputs": [],
   "source": [
    "l = sym.Symbol('lambda')\n",
    "h = sym.Symbol('h')\n",
    "b = sym.Symbol('b')\n",
    "r = sym.Symbol('rho')\n",
    "d = sym.Symbol('delta')"
   ]
  },
  {
   "cell_type": "code",
   "execution_count": 3,
   "id": "31844fed",
   "metadata": {},
   "outputs": [],
   "source": [
    "def matrix(l):\n",
    "    A = sym.Matrix([[2*(1-h)*l-2*b+1, (h-2)*l-1+h, -h*d*l],\n",
    "                    [(h-2)*l-1+h, 2*l+1-2*r, h*d*l+h*d],\n",
    "                    [-h*d*l, h*d*l+h*d, 2*b]])\n",
    "    return A"
   ]
  },
  {
   "cell_type": "code",
   "execution_count": 4,
   "id": "6bbf066a",
   "metadata": {},
   "outputs": [],
   "source": [
    "def Schur(Initial_matrix):\n",
    "    B2 = Initial_matrix[0:2,2]\n",
    "    C2 = Initial_matrix[2,2]\n",
    "    Schur_right_2 = (1/C2)*B2*B2.T\n",
    "    Schur_left_2 = Initial_matrix[0:2,0:2] - Schur_right_2\n",
    "\n",
    "    Schur_left_2_final = sym.diag(Schur_left_2, 0)\n",
    "    Schur_right_2_final = sym.diag(Schur_right_2, 0)\n",
    "    Schur_right_2_final[0,2] = Initial_matrix[0,2]\n",
    "    Schur_right_2_final[1,2] = Initial_matrix[1,2]\n",
    "    Schur_right_2_final[2,0] = Initial_matrix[2,0]\n",
    "    Schur_right_2_final[2,1] = Initial_matrix[2,1]\n",
    "    Schur_right_2_final[2,2] = Initial_matrix[2,2]\n",
    "\n",
    "    return sym.simplify(Schur_left_2_final), sym.simplify(Schur_right_2_final)"
   ]
  },
  {
   "cell_type": "markdown",
   "id": "27c05e4d",
   "metadata": {},
   "source": [
    "## Case 1"
   ]
  },
  {
   "cell_type": "code",
   "execution_count": 5,
   "id": "95c86044",
   "metadata": {},
   "outputs": [
    {
     "data": {
      "text/latex": [
       "$\\displaystyle \\frac{12 b^{2} - 8 b \\delta^{2} h^{2} + 8 b h^{2} - 12 b h + 3 \\delta^{2} h^{2}}{2 \\left(4 b^{2} + 4 b h - 6 b + \\delta^{2} h^{2}\\right)}$"
      ],
      "text/plain": [
       "(12*b**2 - 8*b*delta**2*h**2 + 8*b*h**2 - 12*b*h + 3*delta**2*h**2)/(2*(4*b**2 + 4*b*h - 6*b + delta**2*h**2))"
      ]
     },
     "execution_count": 5,
     "metadata": {},
     "output_type": "execute_result"
    }
   ],
   "source": [
    "l = 1\n",
    "A = matrix(l)\n",
    "A1, A2 = Schur(A)\n",
    "value_of_r = sym.solve(sym.det(A1[:2,:2]), r)[0]\n",
    "value_of_r"
   ]
  },
  {
   "cell_type": "code",
   "execution_count": 6,
   "id": "105f505e",
   "metadata": {},
   "outputs": [
    {
     "data": {
      "text/latex": [
       "$\\displaystyle \\frac{\\delta h}{2}$"
      ],
      "text/plain": [
       "delta*h/2"
      ]
     },
     "execution_count": 6,
     "metadata": {},
     "output_type": "execute_result"
    }
   ],
   "source": [
    "first_constraint, second_contraint = sym.solve(A1[0,0], b)\n",
    "\n",
    "first_order_optimilality_condition = sym.factor(sym.diff(value_of_r, b))\n",
    "solution_in_b = sym.solve(first_order_optimilality_condition, b)[1]\n",
    "solution_in_b"
   ]
  },
  {
   "cell_type": "code",
   "execution_count": 7,
   "id": "8db8f0a8",
   "metadata": {},
   "outputs": [
    {
     "data": {
      "text/plain": [
       "[0, 3/(2*(delta + 1))]"
      ]
     },
     "execution_count": 7,
     "metadata": {},
     "output_type": "execute_result"
    }
   ],
   "source": [
    "irational_inequation_1 = sym.solve(first_constraint - solution_in_b, h)\n",
    "irational_inequation_1"
   ]
  },
  {
   "cell_type": "code",
   "execution_count": 8,
   "id": "d9fe70b3",
   "metadata": {},
   "outputs": [
    {
     "data": {
      "text/plain": [
       "[3/(2*(delta + 1))]"
      ]
     },
     "execution_count": 8,
     "metadata": {},
     "output_type": "execute_result"
    }
   ],
   "source": [
    "irational_inequation_2 = sym.solve(second_contraint - solution_in_b, h)\n",
    "irational_inequation_2"
   ]
  },
  {
   "cell_type": "markdown",
   "id": "d8448d29",
   "metadata": {},
   "source": [
    "## Case 2"
   ]
  },
  {
   "cell_type": "code",
   "execution_count": 9,
   "id": "188305e1",
   "metadata": {},
   "outputs": [
    {
     "data": {
      "text/latex": [
       "$\\displaystyle - \\frac{b^{2} \\left(4 \\delta^{2} h^{2} + 8 \\delta h^{2} - 16 \\delta h + 4 h^{2} - 16 h + 12\\right) + b \\left(- 4 \\delta^{2} h^{3} + 2 \\delta^{2} h^{2} - 8 \\delta h^{3} + 16 \\delta h^{2} - 4 h^{3} + 14 h^{2} - 12 h\\right) + \\delta^{4} h^{4} + 2 \\delta^{3} h^{4} - 4 \\delta^{3} h^{3} + \\delta^{2} h^{4} - 4 \\delta^{2} h^{3} + 3 \\delta^{2} h^{2}}{2 \\left(b^{2} \\left(4 \\delta^{2} h^{2} + 8 \\delta h^{2} - 8 \\delta h + 4 h^{2} - 8 h + 4\\right) + b \\left(- 4 \\delta^{2} h^{3} + 2 \\delta^{2} h^{2} - 8 \\delta h^{3} + 16 \\delta h^{2} - 8 \\delta h - 4 h^{3} + 14 h^{2} - 16 h + 6\\right) + \\delta^{4} h^{4} + 2 \\delta^{3} h^{4} - 4 \\delta^{3} h^{3} + \\delta^{2} h^{4} - 4 \\delta^{2} h^{3} + 4 \\delta^{2} h^{2}\\right)}$"
      ],
      "text/plain": [
       "-(b**2*(4*delta**2*h**2 + 8*delta*h**2 - 16*delta*h + 4*h**2 - 16*h + 12) + b*(-4*delta**2*h**3 + 2*delta**2*h**2 - 8*delta*h**3 + 16*delta*h**2 - 4*h**3 + 14*h**2 - 12*h) + delta**4*h**4 + 2*delta**3*h**4 - 4*delta**3*h**3 + delta**2*h**4 - 4*delta**2*h**3 + 3*delta**2*h**2)/(2*(b**2*(4*delta**2*h**2 + 8*delta*h**2 - 8*delta*h + 4*h**2 - 8*h + 4) + b*(-4*delta**2*h**3 + 2*delta**2*h**2 - 8*delta*h**3 + 16*delta*h**2 - 8*delta*h - 4*h**3 + 14*h**2 - 16*h + 6) + delta**4*h**4 + 2*delta**3*h**4 - 4*delta**3*h**3 + delta**2*h**4 - 4*delta**2*h**3 + 4*delta**2*h**2))"
      ]
     },
     "execution_count": 9,
     "metadata": {},
     "output_type": "execute_result"
    }
   ],
   "source": [
    "l = (2-h*(1+d))/(h*(1+d)-1)\n",
    "A = matrix(l)\n",
    "A1, A2 = Schur(A)\n",
    "value_of_r = sym.solve(sym.det(A1[:2,:2]), r)[0]\n",
    "sym.factor(value_of_r, b)"
   ]
  },
  {
   "cell_type": "code",
   "execution_count": 10,
   "id": "de5460c0",
   "metadata": {},
   "outputs": [
    {
     "data": {
      "text/latex": [
       "$\\displaystyle \\frac{\\delta h}{2 \\left(\\delta h + h - 1\\right)}$"
      ],
      "text/plain": [
       "delta*h/(2*(delta*h + h - 1))"
      ]
     },
     "execution_count": 10,
     "metadata": {},
     "output_type": "execute_result"
    }
   ],
   "source": [
    "first_constraint, second_contraint = sym.solve(A1[0,0], b)\n",
    "\n",
    "first_order_optimilality_condition = sym.factor(sym.diff(value_of_r, b))\n",
    "solution_in_b = sym.solve(first_order_optimilality_condition, b)[0]\n",
    "solution_in_b"
   ]
  },
  {
   "cell_type": "code",
   "execution_count": 11,
   "id": "beb1fecd",
   "metadata": {},
   "outputs": [
    {
     "data": {
      "text/plain": [
       "[(3*delta - sqrt(4 - 3*delta**2) + 2)/(2*delta*(delta + 1)),\n",
       " (3*delta + sqrt(4 - 3*delta**2) + 2)/(2*delta*(delta + 1))]"
      ]
     },
     "execution_count": 11,
     "metadata": {},
     "output_type": "execute_result"
    }
   ],
   "source": [
    "irational_inequation_1 = sym.solve(first_constraint - solution_in_b, h)\n",
    "irational_inequation_1"
   ]
  },
  {
   "cell_type": "code",
   "execution_count": 12,
   "id": "81550f0e",
   "metadata": {},
   "outputs": [
    {
     "data": {
      "text/plain": [
       "[0,\n",
       " (3*delta - sqrt(4 - 3*delta**2) + 2)/(2*delta*(delta + 1)),\n",
       " (3*delta + sqrt(4 - 3*delta**2) + 2)/(2*delta*(delta + 1))]"
      ]
     },
     "execution_count": 12,
     "metadata": {},
     "output_type": "execute_result"
    }
   ],
   "source": [
    "irational_inequation_2 = sym.solve(second_contraint - solution_in_b, h)\n",
    "irational_inequation_2"
   ]
  }
 ],
 "metadata": {
  "kernelspec": {
   "display_name": ".venv",
   "language": "python",
   "name": "python3"
  },
  "language_info": {
   "codemirror_mode": {
    "name": "ipython",
    "version": 3
   },
   "file_extension": ".py",
   "mimetype": "text/x-python",
   "name": "python",
   "nbconvert_exporter": "python",
   "pygments_lexer": "ipython3",
   "version": "3.12.3"
  }
 },
 "nbformat": 4,
 "nbformat_minor": 5
}
